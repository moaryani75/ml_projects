{
 "cells": [
  {
   "cell_type": "code",
   "execution_count": 11,
   "metadata": {},
   "outputs": [],
   "source": [
    "# imports\n",
    "# -------\n",
    "import numpy as np \n",
    "from matplotlib import pyplot as plt\n",
    "from sklearn.datasets import load_breast_cancer\n",
    "from sklearn.decomposition import PCA\n",
    "from sklearn.preprocessing import normalize\n",
    "from sklearn.model_selection import train_test_split ,StratifiedKFold\n",
    "from sklearn.neighbors import KNeighborsClassifier\n",
    "from sklearn.naive_bayes import GaussianNB\n",
    "from sklearn.tree import DecisionTreeClassifier\n",
    "from sklearn.ensemble import RandomForestClassifier\n",
    "from sklearn.svm import SVC\n",
    "from sklearn.linear_model import LogisticRegression\n",
    "from sklearn.neural_network import MLPClassifier\n",
    "from sklearn.metrics import accuracy_score ,precision_score ,recall_score ,f1_score ,confusion_matrix"
   ]
  },
  {
   "cell_type": "code",
   "execution_count": 12,
   "metadata": {},
   "outputs": [
    {
     "data": {
      "image/png": "[encoded data removed]",
      "text/plain": [
       "<Figure size 700x500 with 1 Axes>"
      ]
     },
     "metadata": {},
     "output_type": "display_data"
    }
   ],
   "source": [
    "# prepration\n",
    "# ----------\n",
    "breast_cancer_sp =load_breast_cancer(return_X_y =True)\n",
    "x =breast_cancer_sp[0].astype(np.float32) \n",
    "y =breast_cancer_sp[1].astype(np.int32).reshape(-1,1)\n",
    "pca =PCA(20)\n",
    "x_reduce =pca.fit_transform(x)\n",
    "x_reduce_norm =normalize(x_reduce ,'l2') \n",
    "x_train ,x_test ,y_train ,y_test =train_test_split(x_reduce_norm ,y ,test_size =0.2)\n",
    "labels =['benign','malignant']\n",
    "colors =['aqua','coral']\n",
    "labels_count =[]\n",
    "labels_count.append(list(y).count(1))\n",
    "labels_count.append(list(y).count(0))\n",
    "plt.figure(1 ,(7,5) ,100)\n",
    "plt.bar(labels ,labels_count ,0.6 ,color =colors)\n",
    "plt.xlabel('diagnosis' ,{'size' :10 ,'weight' :'bold' ,'style' :'italic'} ,7)\n",
    "plt.ylabel('count' ,{'size' :10 ,'weight' :'bold' ,'style' :'italic'} ,7)\n",
    "plt.title('breast_cancer_diagnosis' ,{'size' :20 ,'weight' :'bold' ,'style' :'italic' ,'color' :'darkRed'} ,pad =10)\n",
    "plt.show()"
   ]
  },
  {
   "cell_type": "code",
   "execution_count": 13,
   "metadata": {},
   "outputs": [],
   "source": [
    "# details\n",
    "# -------\n",
    "def eva_scores(y_true ,y_pred) :\n",
    "    # acc =[(TP+TN)/(TP+FP+FN+TN)]\n",
    "    accuracy =accuracy_score(y_true =y_true ,y_pred =y_pred)\n",
    "    # pre =[TP/(TP+FP)]\n",
    "    precision =precision_score(y_true =y_true ,y_pred =y_pred)\n",
    "    # rec(sensitivity) =[TP/(TP+FN)]\n",
    "    sensitivity =recall_score(y_true =y_true ,y_pred =y_pred)\n",
    "    # rec(specificity) =[TN/(TN+FP)]\n",
    "    specificity =recall_score(y_true =y_true ,y_pred =y_pred ,pos_label =0)\n",
    "    # f1 =[2*(pre*rec)/(pre+rec)]\n",
    "    f1 =f1_score(y_true =y_true ,y_pred =y_pred) \n",
    "    return {'accuracy_score' : accuracy , \n",
    "            'precision_score' : precision , \n",
    "            'sensitivity_score' : sensitivity ,\n",
    "            'specificity_score' : specificity ,\n",
    "            'f1_score' : f1\n",
    "}        \n",
    "\n",
    "def cv_score(est) :\n",
    "    skf =StratifiedKFold(n_splits =5 ,shuffle =True) \n",
    "    acc_total_cv =[]\n",
    "    for tr ,val in skf.split(x_train ,y_train): \n",
    "        x_train_cv =x_train[tr] \n",
    "        y_train_cv =y_train[tr] \n",
    "        x_val_cv =x_train[val] \n",
    "        y_val_cv =y_train[val]\n",
    "        est.fit(x_train_cv ,y_train_cv) \n",
    "        Y_cv =est.predict(x_val_cv) \n",
    "        acc_cv =accuracy_score(y_true=y_val_cv ,y_pred=Y_cv)\n",
    "        acc_total_cv.append(acc_cv)\n",
    "    acc_mean_cv =np.mean(acc_total_cv)\n",
    "    return acc_mean_cv"
   ]
  },
  {
   "cell_type": "code",
   "execution_count": 15,
   "metadata": {},
   "outputs": [
    {
     "name": "stdout",
     "output_type": "stream",
     "text": [
      " evaluation_scores : \n",
      " {'accuracy_score': 0.9649122807017544, 'precision_score': 0.9722222222222222, 'sensitivity_score': 0.9722222222222222, 'specificity_score': 0.9523809523809523, 'f1_score': 0.9722222222222222} \n",
      "\n",
      " cv_score : \n",
      " 0.9274725274725275 \n",
      "\n"
     ]
    },
    {
     "name": "stderr",
     "output_type": "stream",
     "text": [
      "c:\\Users\\fujitsu\\AppData\\Local\\Programs\\Python\\Python312\\Lib\\site-packages\\sklearn\\neighbors\\_classification.py:238: DataConversionWarning: A column-vector y was passed when a 1d array was expected. Please change the shape of y to (n_samples,), for example using ravel().\n",
      "  return self._fit(X, y)\n",
      "c:\\Users\\fujitsu\\AppData\\Local\\Programs\\Python\\Python312\\Lib\\site-packages\\sklearn\\neighbors\\_classification.py:238: DataConversionWarning: A column-vector y was passed when a 1d array was expected. Please change the shape of y to (n_samples,), for example using ravel().\n",
      "  return self._fit(X, y)\n",
      "c:\\Users\\fujitsu\\AppData\\Local\\Programs\\Python\\Python312\\Lib\\site-packages\\sklearn\\neighbors\\_classification.py:238: DataConversionWarning: A column-vector y was passed when a 1d array was expected. Please change the shape of y to (n_samples,), for example using ravel().\n",
      "  return self._fit(X, y)\n",
      "c:\\Users\\fujitsu\\AppData\\Local\\Programs\\Python\\Python312\\Lib\\site-packages\\sklearn\\neighbors\\_classification.py:238: DataConversionWarning: A column-vector y was passed when a 1d array was expected. Please change the shape of y to (n_samples,), for example using ravel().\n",
      "  return self._fit(X, y)\n",
      "c:\\Users\\fujitsu\\AppData\\Local\\Programs\\Python\\Python312\\Lib\\site-packages\\sklearn\\neighbors\\_classification.py:238: DataConversionWarning: A column-vector y was passed when a 1d array was expected. Please change the shape of y to (n_samples,), for example using ravel().\n",
      "  return self._fit(X, y)\n",
      "c:\\Users\\fujitsu\\AppData\\Local\\Programs\\Python\\Python312\\Lib\\site-packages\\sklearn\\neighbors\\_classification.py:238: DataConversionWarning: A column-vector y was passed when a 1d array was expected. Please change the shape of y to (n_samples,), for example using ravel().\n",
      "  return self._fit(X, y)\n"
     ]
    }
   ],
   "source": [
    "# K-nearest_neighbors_model\n",
    "# -------------------------\n",
    "Knn =KNeighborsClassifier(n_neighbors =10)\n",
    "# training\n",
    "Knn.fit(x_train ,y_train)\n",
    "# prediction\n",
    "Y_test_knn =Knn.predict(x_test)\n",
    "# evaluation_scores\n",
    "print(' evaluation_scores :',\n",
    "    '\\n',\n",
    "    eva_scores(y_test,Y_test_knn),\n",
    "    '\\n')\n",
    "# cross_validation_score\n",
    "print(' cv_score :',\n",
    "    '\\n',\n",
    "    cv_score(Knn),\n",
    "    '\\n')"
   ]
  },
  {
   "cell_type": "code",
   "execution_count": 17,
   "metadata": {},
   "outputs": [
    {
     "name": "stdout",
     "output_type": "stream",
     "text": [
      " evaluation_scores : \n",
      " {'accuracy_score': 0.956140350877193, 'precision_score': 0.971830985915493, 'sensitivity_score': 0.9583333333333334, 'specificity_score': 0.9523809523809523, 'f1_score': 0.965034965034965} \n",
      "\n",
      " cv_score : \n",
      " 0.9010989010989011 \n",
      "\n"
     ]
    },
    {
     "name": "stderr",
     "output_type": "stream",
     "text": [
      "c:\\Users\\fujitsu\\AppData\\Local\\Programs\\Python\\Python312\\Lib\\site-packages\\sklearn\\utils\\validation.py:1339: DataConversionWarning: A column-vector y was passed when a 1d array was expected. Please change the shape of y to (n_samples, ), for example using ravel().\n",
      "  y = column_or_1d(y, warn=True)\n",
      "c:\\Users\\fujitsu\\AppData\\Local\\Programs\\Python\\Python312\\Lib\\site-packages\\sklearn\\utils\\validation.py:1339: DataConversionWarning: A column-vector y was passed when a 1d array was expected. Please change the shape of y to (n_samples, ), for example using ravel().\n",
      "  y = column_or_1d(y, warn=True)\n",
      "c:\\Users\\fujitsu\\AppData\\Local\\Programs\\Python\\Python312\\Lib\\site-packages\\sklearn\\utils\\validation.py:1339: DataConversionWarning: A column-vector y was passed when a 1d array was expected. Please change the shape of y to (n_samples, ), for example using ravel().\n",
      "  y = column_or_1d(y, warn=True)\n",
      "c:\\Users\\fujitsu\\AppData\\Local\\Programs\\Python\\Python312\\Lib\\site-packages\\sklearn\\utils\\validation.py:1339: DataConversionWarning: A column-vector y was passed when a 1d array was expected. Please change the shape of y to (n_samples, ), for example using ravel().\n",
      "  y = column_or_1d(y, warn=True)\n",
      "c:\\Users\\fujitsu\\AppData\\Local\\Programs\\Python\\Python312\\Lib\\site-packages\\sklearn\\utils\\validation.py:1339: DataConversionWarning: A column-vector y was passed when a 1d array was expected. Please change the shape of y to (n_samples, ), for example using ravel().\n",
      "  y = column_or_1d(y, warn=True)\n",
      "c:\\Users\\fujitsu\\AppData\\Local\\Programs\\Python\\Python312\\Lib\\site-packages\\sklearn\\utils\\validation.py:1339: DataConversionWarning: A column-vector y was passed when a 1d array was expected. Please change the shape of y to (n_samples, ), for example using ravel().\n",
      "  y = column_or_1d(y, warn=True)\n"
     ]
    }
   ],
   "source": [
    "# gaussian_naive_bayes_model\n",
    "# --------------------------\n",
    "Gnb =GaussianNB()\n",
    "# training\n",
    "Gnb.fit(x_train ,y_train)\n",
    "# prediction\n",
    "Y_test_gnb =Gnb.predict(x_test) \n",
    "# evaluation_scores\n",
    "print(' evaluation_scores :',\n",
    "    '\\n',\n",
    "    eva_scores(y_test,Y_test_gnb),\n",
    "    '\\n')\n",
    "# cross_validation_score\n",
    "print(' cv_score :',\n",
    "    '\\n',\n",
    "    cv_score(Gnb),\n",
    "    '\\n')"
   ]
  },
  {
   "cell_type": "code",
   "execution_count": 18,
   "metadata": {},
   "outputs": [
    {
     "name": "stdout",
     "output_type": "stream",
     "text": [
      " evaluation_scores : \n",
      " {'accuracy_score': 0.8947368421052632, 'precision_score': 0.96875, 'sensitivity_score': 0.8611111111111112, 'specificity_score': 0.9523809523809523, 'f1_score': 0.9117647058823529} \n",
      "\n",
      " cv_score : \n",
      " 0.9142857142857143 \n",
      "\n"
     ]
    }
   ],
   "source": [
    "# decision_trees_model\n",
    "# --------------------\n",
    "Dt =DecisionTreeClassifier(max_depth =10 ,min_samples_split =50)\n",
    "# training\n",
    "Dt.fit(x_train ,y_train) \n",
    "# prediction\n",
    "Y_test_dt =Dt.predict(x_test)\n",
    "# evaluation_scores\n",
    "print(' evaluation_scores :',\n",
    "    '\\n',\n",
    "    eva_scores(y_test,Y_test_dt),\n",
    "    '\\n')\n",
    "# cross_validation_score\n",
    "print(' cv_score :',\n",
    "    '\\n',\n",
    "    cv_score(Dt),\n",
    "    '\\n')"
   ]
  },
  {
   "cell_type": "code",
   "execution_count": 19,
   "metadata": {},
   "outputs": [
    {
     "name": "stderr",
     "output_type": "stream",
     "text": [
      "c:\\Users\\fujitsu\\AppData\\Local\\Programs\\Python\\Python312\\Lib\\site-packages\\sklearn\\base.py:1473: DataConversionWarning: A column-vector y was passed when a 1d array was expected. Please change the shape of y to (n_samples,), for example using ravel().\n",
      "  return fit_method(estimator, *args, **kwargs)\n",
      "c:\\Users\\fujitsu\\AppData\\Local\\Programs\\Python\\Python312\\Lib\\site-packages\\sklearn\\base.py:1473: DataConversionWarning: A column-vector y was passed when a 1d array was expected. Please change the shape of y to (n_samples,), for example using ravel().\n",
      "  return fit_method(estimator, *args, **kwargs)\n"
     ]
    },
    {
     "name": "stdout",
     "output_type": "stream",
     "text": [
      " evaluation_scores : \n",
      " {'accuracy_score': 0.9736842105263158, 'precision_score': 0.9859154929577465, 'sensitivity_score': 0.9722222222222222, 'specificity_score': 0.9761904761904762, 'f1_score': 0.9790209790209791} \n",
      "\n"
     ]
    },
    {
     "name": "stderr",
     "output_type": "stream",
     "text": [
      "c:\\Users\\fujitsu\\AppData\\Local\\Programs\\Python\\Python312\\Lib\\site-packages\\sklearn\\base.py:1473: DataConversionWarning: A column-vector y was passed when a 1d array was expected. Please change the shape of y to (n_samples,), for example using ravel().\n",
      "  return fit_method(estimator, *args, **kwargs)\n",
      "c:\\Users\\fujitsu\\AppData\\Local\\Programs\\Python\\Python312\\Lib\\site-packages\\sklearn\\base.py:1473: DataConversionWarning: A column-vector y was passed when a 1d array was expected. Please change the shape of y to (n_samples,), for example using ravel().\n",
      "  return fit_method(estimator, *args, **kwargs)\n",
      "c:\\Users\\fujitsu\\AppData\\Local\\Programs\\Python\\Python312\\Lib\\site-packages\\sklearn\\base.py:1473: DataConversionWarning: A column-vector y was passed when a 1d array was expected. Please change the shape of y to (n_samples,), for example using ravel().\n",
      "  return fit_method(estimator, *args, **kwargs)\n"
     ]
    },
    {
     "name": "stdout",
     "output_type": "stream",
     "text": [
      " cv_score : \n",
      " 0.945054945054945 \n",
      "\n"
     ]
    },
    {
     "name": "stderr",
     "output_type": "stream",
     "text": [
      "c:\\Users\\fujitsu\\AppData\\Local\\Programs\\Python\\Python312\\Lib\\site-packages\\sklearn\\base.py:1473: DataConversionWarning: A column-vector y was passed when a 1d array was expected. Please change the shape of y to (n_samples,), for example using ravel().\n",
      "  return fit_method(estimator, *args, **kwargs)\n"
     ]
    }
   ],
   "source": [
    "# random_forest_model\n",
    "# -------------------\n",
    "Rf =RandomForestClassifier(n_estimators =30 ,max_depth =10 ,min_samples_split =50)\n",
    "# training\n",
    "Rf.fit(x_train ,y_train) \n",
    "# prediction\n",
    "Y_test_rf =Rf.predict(x_test)\n",
    "# evaluation_scores\n",
    "print(' evaluation_scores :',\n",
    "    '\\n',\n",
    "    eva_scores(y_test,Y_test_rf),\n",
    "    '\\n')\n",
    "# cross_validation_score\n",
    "print(' cv_score :',\n",
    "    '\\n',\n",
    "    cv_score(Rf),\n",
    "    '\\n')"
   ]
  },
  {
   "cell_type": "code",
   "execution_count": 20,
   "metadata": {},
   "outputs": [
    {
     "name": "stdout",
     "output_type": "stream",
     "text": [
      " evaluation_scores : \n",
      " {'accuracy_score': 0.956140350877193, 'precision_score': 0.958904109589041, 'sensitivity_score': 0.9722222222222222, 'specificity_score': 0.9285714285714286, 'f1_score': 0.9655172413793104} \n",
      "\n",
      " cv_score : \n",
      " 0.9186813186813186 \n",
      "\n"
     ]
    },
    {
     "name": "stderr",
     "output_type": "stream",
     "text": [
      "c:\\Users\\fujitsu\\AppData\\Local\\Programs\\Python\\Python312\\Lib\\site-packages\\sklearn\\utils\\validation.py:1339: DataConversionWarning: A column-vector y was passed when a 1d array was expected. Please change the shape of y to (n_samples, ), for example using ravel().\n",
      "  y = column_or_1d(y, warn=True)\n",
      "c:\\Users\\fujitsu\\AppData\\Local\\Programs\\Python\\Python312\\Lib\\site-packages\\sklearn\\svm\\_base.py:297: ConvergenceWarning: Solver terminated early (max_iter=30).  Consider pre-processing your data with StandardScaler or MinMaxScaler.\n",
      "  warnings.warn(\n",
      "c:\\Users\\fujitsu\\AppData\\Local\\Programs\\Python\\Python312\\Lib\\site-packages\\sklearn\\utils\\validation.py:1339: DataConversionWarning: A column-vector y was passed when a 1d array was expected. Please change the shape of y to (n_samples, ), for example using ravel().\n",
      "  y = column_or_1d(y, warn=True)\n",
      "c:\\Users\\fujitsu\\AppData\\Local\\Programs\\Python\\Python312\\Lib\\site-packages\\sklearn\\svm\\_base.py:297: ConvergenceWarning: Solver terminated early (max_iter=30).  Consider pre-processing your data with StandardScaler or MinMaxScaler.\n",
      "  warnings.warn(\n",
      "c:\\Users\\fujitsu\\AppData\\Local\\Programs\\Python\\Python312\\Lib\\site-packages\\sklearn\\utils\\validation.py:1339: DataConversionWarning: A column-vector y was passed when a 1d array was expected. Please change the shape of y to (n_samples, ), for example using ravel().\n",
      "  y = column_or_1d(y, warn=True)\n",
      "c:\\Users\\fujitsu\\AppData\\Local\\Programs\\Python\\Python312\\Lib\\site-packages\\sklearn\\svm\\_base.py:297: ConvergenceWarning: Solver terminated early (max_iter=30).  Consider pre-processing your data with StandardScaler or MinMaxScaler.\n",
      "  warnings.warn(\n",
      "c:\\Users\\fujitsu\\AppData\\Local\\Programs\\Python\\Python312\\Lib\\site-packages\\sklearn\\utils\\validation.py:1339: DataConversionWarning: A column-vector y was passed when a 1d array was expected. Please change the shape of y to (n_samples, ), for example using ravel().\n",
      "  y = column_or_1d(y, warn=True)\n",
      "c:\\Users\\fujitsu\\AppData\\Local\\Programs\\Python\\Python312\\Lib\\site-packages\\sklearn\\svm\\_base.py:297: ConvergenceWarning: Solver terminated early (max_iter=30).  Consider pre-processing your data with StandardScaler or MinMaxScaler.\n",
      "  warnings.warn(\n",
      "c:\\Users\\fujitsu\\AppData\\Local\\Programs\\Python\\Python312\\Lib\\site-packages\\sklearn\\utils\\validation.py:1339: DataConversionWarning: A column-vector y was passed when a 1d array was expected. Please change the shape of y to (n_samples, ), for example using ravel().\n",
      "  y = column_or_1d(y, warn=True)\n",
      "c:\\Users\\fujitsu\\AppData\\Local\\Programs\\Python\\Python312\\Lib\\site-packages\\sklearn\\svm\\_base.py:297: ConvergenceWarning: Solver terminated early (max_iter=30).  Consider pre-processing your data with StandardScaler or MinMaxScaler.\n",
      "  warnings.warn(\n",
      "c:\\Users\\fujitsu\\AppData\\Local\\Programs\\Python\\Python312\\Lib\\site-packages\\sklearn\\utils\\validation.py:1339: DataConversionWarning: A column-vector y was passed when a 1d array was expected. Please change the shape of y to (n_samples, ), for example using ravel().\n",
      "  y = column_or_1d(y, warn=True)\n",
      "c:\\Users\\fujitsu\\AppData\\Local\\Programs\\Python\\Python312\\Lib\\site-packages\\sklearn\\svm\\_base.py:297: ConvergenceWarning: Solver terminated early (max_iter=30).  Consider pre-processing your data with StandardScaler or MinMaxScaler.\n",
      "  warnings.warn(\n"
     ]
    }
   ],
   "source": [
    "# support_vector_machines_model\n",
    "# -----------------------------\n",
    "Svm =SVC(kernel ='poly' ,degree =3 ,max_iter =30)\n",
    "# training\n",
    "Svm.fit(x_train ,y_train) \n",
    "# prediction\n",
    "Y_test_svm =Svm.predict(x_test) \n",
    "# evaluation_scores\n",
    "print(' evaluation_scores :',\n",
    "    '\\n',\n",
    "    eva_scores(y_test,Y_test_svm),\n",
    "    '\\n')\n",
    "# cross_validation_score\n",
    "print(' cv_score :',\n",
    "    '\\n',\n",
    "    cv_score(Svm),\n",
    "    '\\n')"
   ]
  },
  {
   "cell_type": "code",
   "execution_count": 21,
   "metadata": {},
   "outputs": [
    {
     "name": "stdout",
     "output_type": "stream",
     "text": [
      " evaluation_scores : \n",
      " {'accuracy_score': 0.9736842105263158, 'precision_score': 0.96, 'sensitivity_score': 1.0, 'specificity_score': 0.9285714285714286, 'f1_score': 0.9795918367346939} \n",
      "\n",
      " cv_score : \n",
      " 0.9252747252747253 \n",
      "\n"
     ]
    },
    {
     "name": "stderr",
     "output_type": "stream",
     "text": [
      "c:\\Users\\fujitsu\\AppData\\Local\\Programs\\Python\\Python312\\Lib\\site-packages\\sklearn\\utils\\validation.py:1339: DataConversionWarning: A column-vector y was passed when a 1d array was expected. Please change the shape of y to (n_samples, ), for example using ravel().\n",
      "  y = column_or_1d(y, warn=True)\n",
      "c:\\Users\\fujitsu\\AppData\\Local\\Programs\\Python\\Python312\\Lib\\site-packages\\sklearn\\utils\\validation.py:1339: DataConversionWarning: A column-vector y was passed when a 1d array was expected. Please change the shape of y to (n_samples, ), for example using ravel().\n",
      "  y = column_or_1d(y, warn=True)\n",
      "c:\\Users\\fujitsu\\AppData\\Local\\Programs\\Python\\Python312\\Lib\\site-packages\\sklearn\\utils\\validation.py:1339: DataConversionWarning: A column-vector y was passed when a 1d array was expected. Please change the shape of y to (n_samples, ), for example using ravel().\n",
      "  y = column_or_1d(y, warn=True)\n",
      "c:\\Users\\fujitsu\\AppData\\Local\\Programs\\Python\\Python312\\Lib\\site-packages\\sklearn\\utils\\validation.py:1339: DataConversionWarning: A column-vector y was passed when a 1d array was expected. Please change the shape of y to (n_samples, ), for example using ravel().\n",
      "  y = column_or_1d(y, warn=True)\n",
      "c:\\Users\\fujitsu\\AppData\\Local\\Programs\\Python\\Python312\\Lib\\site-packages\\sklearn\\utils\\validation.py:1339: DataConversionWarning: A column-vector y was passed when a 1d array was expected. Please change the shape of y to (n_samples, ), for example using ravel().\n",
      "  y = column_or_1d(y, warn=True)\n",
      "c:\\Users\\fujitsu\\AppData\\Local\\Programs\\Python\\Python312\\Lib\\site-packages\\sklearn\\utils\\validation.py:1339: DataConversionWarning: A column-vector y was passed when a 1d array was expected. Please change the shape of y to (n_samples, ), for example using ravel().\n",
      "  y = column_or_1d(y, warn=True)\n"
     ]
    }
   ],
   "source": [
    "# logestic_regression_model\n",
    "# -------------------------\n",
    "Lr =LogisticRegression('l1' ,solver ='liblinear')\n",
    "# training \n",
    "Lr.fit(x_train ,y_train) \n",
    "# prediction\n",
    "Y_test_lr =Lr.predict(x_test) \n",
    "# evaluation_scores\n",
    "print(' evaluation_scores :',\n",
    "    '\\n',\n",
    "    eva_scores(y_test,Y_test_lr),\n",
    "    '\\n')\n",
    "# cross_validation_score\n",
    "print(' cv_score :',\n",
    "    '\\n',\n",
    "    cv_score(Lr),\n",
    "    '\\n')"
   ]
  },
  {
   "cell_type": "code",
   "execution_count": 22,
   "metadata": {},
   "outputs": [
    {
     "name": "stderr",
     "output_type": "stream",
     "text": [
      "c:\\Users\\fujitsu\\AppData\\Local\\Programs\\Python\\Python312\\Lib\\site-packages\\sklearn\\neural_network\\_multilayer_perceptron.py:1105: DataConversionWarning: A column-vector y was passed when a 1d array was expected. Please change the shape of y to (n_samples, ), for example using ravel().\n",
      "  y = column_or_1d(y, warn=True)\n",
      "c:\\Users\\fujitsu\\AppData\\Local\\Programs\\Python\\Python312\\Lib\\site-packages\\sklearn\\neural_network\\_multilayer_perceptron.py:690: ConvergenceWarning: Stochastic Optimizer: Maximum iterations (100) reached and the optimization hasn't converged yet.\n",
      "  warnings.warn(\n",
      "c:\\Users\\fujitsu\\AppData\\Local\\Programs\\Python\\Python312\\Lib\\site-packages\\sklearn\\neural_network\\_multilayer_perceptron.py:1105: DataConversionWarning: A column-vector y was passed when a 1d array was expected. Please change the shape of y to (n_samples, ), for example using ravel().\n",
      "  y = column_or_1d(y, warn=True)\n"
     ]
    },
    {
     "name": "stdout",
     "output_type": "stream",
     "text": [
      " evaluation_scores : \n",
      " {'accuracy_score': 0.9736842105263158, 'precision_score': 0.9726027397260274, 'sensitivity_score': 0.9861111111111112, 'specificity_score': 0.9523809523809523, 'f1_score': 0.9793103448275862} \n",
      "\n"
     ]
    },
    {
     "name": "stderr",
     "output_type": "stream",
     "text": [
      "c:\\Users\\fujitsu\\AppData\\Local\\Programs\\Python\\Python312\\Lib\\site-packages\\sklearn\\neural_network\\_multilayer_perceptron.py:1105: DataConversionWarning: A column-vector y was passed when a 1d array was expected. Please change the shape of y to (n_samples, ), for example using ravel().\n",
      "  y = column_or_1d(y, warn=True)\n",
      "c:\\Users\\fujitsu\\AppData\\Local\\Programs\\Python\\Python312\\Lib\\site-packages\\sklearn\\neural_network\\_multilayer_perceptron.py:690: ConvergenceWarning: Stochastic Optimizer: Maximum iterations (100) reached and the optimization hasn't converged yet.\n",
      "  warnings.warn(\n",
      "c:\\Users\\fujitsu\\AppData\\Local\\Programs\\Python\\Python312\\Lib\\site-packages\\sklearn\\neural_network\\_multilayer_perceptron.py:1105: DataConversionWarning: A column-vector y was passed when a 1d array was expected. Please change the shape of y to (n_samples, ), for example using ravel().\n",
      "  y = column_or_1d(y, warn=True)\n",
      "c:\\Users\\fujitsu\\AppData\\Local\\Programs\\Python\\Python312\\Lib\\site-packages\\sklearn\\neural_network\\_multilayer_perceptron.py:1105: DataConversionWarning: A column-vector y was passed when a 1d array was expected. Please change the shape of y to (n_samples, ), for example using ravel().\n",
      "  y = column_or_1d(y, warn=True)\n",
      "c:\\Users\\fujitsu\\AppData\\Local\\Programs\\Python\\Python312\\Lib\\site-packages\\sklearn\\neural_network\\_multilayer_perceptron.py:690: ConvergenceWarning: Stochastic Optimizer: Maximum iterations (100) reached and the optimization hasn't converged yet.\n",
      "  warnings.warn(\n",
      "c:\\Users\\fujitsu\\AppData\\Local\\Programs\\Python\\Python312\\Lib\\site-packages\\sklearn\\neural_network\\_multilayer_perceptron.py:1105: DataConversionWarning: A column-vector y was passed when a 1d array was expected. Please change the shape of y to (n_samples, ), for example using ravel().\n",
      "  y = column_or_1d(y, warn=True)\n"
     ]
    },
    {
     "name": "stdout",
     "output_type": "stream",
     "text": [
      " cv_score : \n",
      " 0.945054945054945 \n",
      "\n"
     ]
    },
    {
     "name": "stderr",
     "output_type": "stream",
     "text": [
      "c:\\Users\\fujitsu\\AppData\\Local\\Programs\\Python\\Python312\\Lib\\site-packages\\sklearn\\neural_network\\_multilayer_perceptron.py:690: ConvergenceWarning: Stochastic Optimizer: Maximum iterations (100) reached and the optimization hasn't converged yet.\n",
      "  warnings.warn(\n"
     ]
    }
   ],
   "source": [
    "# multi_layer_perceptron_model \n",
    "# ----------------------------\n",
    "Mlp =MLPClassifier(hidden_layer_sizes =(10,) ,activation ='tanh' ,batch_size =50 ,learning_rate_init =0.05 ,max_iter =100)\n",
    "# training\n",
    "Mlp.fit(x_train ,y_train) \n",
    "# prediction\n",
    "Y_test_mlp =Mlp.predict(x_test)\n",
    "# evaluation_scores\n",
    "print(' evaluation_scores :',\n",
    "    '\\n',\n",
    "    eva_scores(y_test,Y_test_mlp),\n",
    "    '\\n')\n",
    "# cross_validation_score\n",
    "print(' cv_score :',\n",
    "    '\\n',\n",
    "    cv_score(Mlp),\n",
    "    '\\n')"
   ]
  }
 ],
 "metadata": {
  "kernelspec": {
   "display_name": "Python 3",
   "language": "python",
   "name": "python3"
  },
  "language_info": {
   "codemirror_mode": {
    "name": "ipython",
    "version": 3
   },
   "file_extension": ".py",
   "mimetype": "text/x-python",
   "name": "python",
   "nbconvert_exporter": "python",
   "pygments_lexer": "ipython3",
   "version": "3.12.6"
  }
 },
 "nbformat": 4,
 "nbformat_minor": 2
}
